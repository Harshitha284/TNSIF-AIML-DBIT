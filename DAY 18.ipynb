{
 "cells": [
  {
   "cell_type": "code",
   "execution_count": 5,
   "id": "9cb4a114-9485-4826-a800-b7df9af4dbba",
   "metadata": {},
   "outputs": [
    {
     "name": "stdout",
     "output_type": "stream",
     "text": [
      "Q1: The dataset represents 5 shopping transactions:\n",
      "Transaction 1: ['Coffee', 'Donut', 'Sandwich']\n",
      "Transaction 2: ['Coffee', 'Donut']\n",
      "Transaction 3: ['Coffee', 'Sandwich']\n",
      "Transaction 4: ['Coffee', 'Muffin']\n",
      "Transaction 5: ['Donut', 'Muffin']\n"
     ]
    }
   ],
   "source": [
    "# Q1: What does the dataset represent?\n",
    "print(\"Q1: The dataset represents 5 shopping transactions:\")\n",
    "dataset = [\n",
    "    ['Coffee', 'Donut', 'Sandwich'],\n",
    "    ['Coffee', 'Donut'],\n",
    "    ['Coffee', 'Sandwich'],\n",
    "    ['Coffee', 'Muffin'],\n",
    "    ['Donut', 'Muffin']\n",
    "]\n",
    "\n",
    "for i, transaction in enumerate(dataset, 1):\n",
    "    print(f\"Transaction {i}: {transaction}\")"
   ]
  },
  {
   "cell_type": "code",
   "execution_count": 6,
   "id": "50cb1990-32a5-4998-82de-f11443e24132",
   "metadata": {},
   "outputs": [
    {
     "name": "stdout",
     "output_type": "stream",
     "text": [
      "\n",
      "Q2: One-hot encoded DataFrame:\n",
      "Columns: ['Coffee', 'Donut', 'Muffin', 'Sandwich']\n",
      "Rows: 5 transactions\n",
      "   Coffee  Donut  Muffin  Sandwich\n",
      "0       1      1       0         1\n",
      "1       1      1       0         0\n",
      "2       1      0       0         1\n",
      "3       1      0       1         0\n",
      "4       0      1       1         0\n",
      "\n",
      "Rows = Transactions, Columns = Items, 1 = Purchased, 0 = Not Purchased\n"
     ]
    }
   ],
   "source": [
    "# Q2: One-hot encoded DataFrame (manual implementation)\n",
    "print(\"\\nQ2: One-hot encoded DataFrame:\")\n",
    "\n",
    "# Get all unique items\n",
    "all_items = sorted(list(set(item for transaction in dataset for item in transaction)))\n",
    "print(\"Columns:\", all_items)\n",
    "print(\"Rows: 5 transactions\")\n",
    "\n",
    "# Create one-hot encoding manually\n",
    "one_hot_data = []\n",
    "for transaction in dataset:\n",
    "    row = [1 if item in transaction else 0 for item in all_items]\n",
    "    one_hot_data.append(row)\n",
    "\n",
    "# Create DataFrame\n",
    "import pandas as pd\n",
    "df = pd.DataFrame(one_hot_data, columns=all_items)\n",
    "print(df)\n",
    "print(\"\\nRows = Transactions, Columns = Items, 1 = Purchased, 0 = Not Purchased\")"
   ]
  },
  {
   "cell_type": "code",
   "execution_count": 7,
   "id": "ba5fb291-7bea-4f73-ab8d-fa41ecf275fb",
   "metadata": {},
   "outputs": [
    {
     "name": "stdout",
     "output_type": "stream",
     "text": [
      "\n",
      "Q3: Frequent itemsets with support ≥ 0.4:\n",
      "Single items:\n",
      "  Coffee: support = 0.8\n",
      "  Donut: support = 0.6\n",
      "  Muffin: support = 0.4\n",
      "  Sandwich: support = 0.4\n",
      "\n",
      "Double items:\n",
      "  {'Donut', 'Coffee'}: support = 0.4\n",
      "  {'Coffee', 'Sandwich'}: support = 0.4\n"
     ]
    }
   ],
   "source": [
    "# Q3: Frequent itemsets with min_support=0.4 (manual calculation)\n",
    "print(\"\\nQ3: Frequent itemsets with support ≥ 0.4:\")\n",
    "\n",
    "# Calculate support for single items\n",
    "total_transactions = len(dataset)\n",
    "min_support_count = 0.4 * total_transactions\n",
    "\n",
    "# Single items\n",
    "single_items = {}\n",
    "for item in all_items:\n",
    "    count = sum(1 for transaction in dataset if item in transaction)\n",
    "    support = count / total_transactions\n",
    "    if support >= 0.4:\n",
    "        single_items[item] = support\n",
    "\n",
    "# Double items (itemsets of size 2)\n",
    "double_items = {}\n",
    "for i in range(len(all_items)):\n",
    "    for j in range(i+1, len(all_items)):\n",
    "        item1, item2 = all_items[i], all_items[j]\n",
    "        count = sum(1 for transaction in dataset if item1 in transaction and item2 in transaction)\n",
    "        support = count / total_transactions\n",
    "        if support >= 0.4:\n",
    "            double_items[frozenset([item1, item2])] = support\n",
    "\n",
    "# Display results\n",
    "print(\"Single items:\")\n",
    "for item, support in single_items.items():\n",
    "    print(f\"  {item}: support = {support:.1f}\")\n",
    "\n",
    "print(\"\\nDouble items:\")\n",
    "for itemset, support in double_items.items():\n",
    "    print(f\"  {set(itemset)}: support = {support:.1f}\")"
   ]
  },
  {
   "cell_type": "code",
   "execution_count": 8,
   "id": "cd4b0263-73de-493c-bb58-6aa87743f38e",
   "metadata": {},
   "outputs": [
    {
     "name": "stdout",
     "output_type": "stream",
     "text": [
      "\n",
      "Q4: All possible association rules:\n",
      "Donut → Coffee: support=0.4, confidence=0.667, lift=0.833\n",
      "Coffee → Donut: support=0.4, confidence=0.500, lift=0.833\n",
      "Coffee → Sandwich: support=0.4, confidence=0.500, lift=1.250\n",
      "Sandwich → Coffee: support=0.4, confidence=1.000, lift=1.250\n"
     ]
    }
   ],
   "source": [
    "# Q4: Association rules with support, confidence, lift (manual calculation)\n",
    "print(\"\\nQ4: All possible association rules:\")\n",
    "\n",
    "# Calculate all possible rules from frequent itemsets\n",
    "rules = []\n",
    "\n",
    "# For each double itemset, generate both possible rules\n",
    "for itemset in double_items.keys():\n",
    "    items = list(itemset)\n",
    "    \n",
    "    # Rule: A -> B\n",
    "    support_AB = double_items[itemset]\n",
    "    support_A = single_items[items[0]]\n",
    "    support_B = single_items[items[1]]\n",
    "    \n",
    "    confidence_A_B = support_AB / support_A\n",
    "    lift_A_B = support_AB / (support_A * support_B)\n",
    "    \n",
    "    rules.append({\n",
    "        'rule': f\"{items[0]} → {items[1]}\",\n",
    "        'support': support_AB,\n",
    "        'confidence': confidence_A_B,\n",
    "        'lift': lift_A_B\n",
    "    })\n",
    "    \n",
    "    # Rule: B -> A\n",
    "    confidence_B_A = support_AB / support_B\n",
    "    lift_B_A = support_AB / (support_A * support_B)\n",
    "    \n",
    "    rules.append({\n",
    "        'rule': f\"{items[1]} → {items[0]}\",\n",
    "        'support': support_AB,\n",
    "        'confidence': confidence_B_A,\n",
    "        'lift': lift_B_A\n",
    "    })\n",
    "\n",
    "# Display rules\n",
    "for rule in rules:\n",
    "    print(f\"{rule['rule']}: support={rule['support']:.1f}, confidence={rule['confidence']:.3f}, lift={rule['lift']:.3f}\")"
   ]
  },
  {
   "cell_type": "code",
   "execution_count": 9,
   "id": "6c5addb2-7b6b-4e00-9e88-7a2c16261d35",
   "metadata": {},
   "outputs": [
    {
     "name": "stdout",
     "output_type": "stream",
     "text": [
      "\n",
      "Q5: Rules with support≥0.4 and confidence≥0.6:\n",
      "Donut → Coffee: support=0.4, confidence=0.667\n",
      "Sandwich → Coffee: support=0.4, confidence=1.000\n"
     ]
    }
   ],
   "source": [
    "# Q5: Rules with support≥0.4 and confidence≥0.6\n",
    "print(\"\\nQ5: Rules with support≥0.4 and confidence≥0.6:\")\n",
    "\n",
    "good_rules = [rule for rule in rules if rule['support'] >= 0.4 and rule['confidence'] >= 0.6]\n",
    "\n",
    "if good_rules:\n",
    "    for rule in good_rules:\n",
    "        print(f\"{rule['rule']}: support={rule['support']:.1f}, confidence={rule['confidence']:.3f}\")\n",
    "else:\n",
    "    print(\"No rules meet both criteria\")"
   ]
  },
  {
   "cell_type": "code",
   "execution_count": 10,
   "id": "13b848f2-31de-4159-9bcf-587efad49c9c",
   "metadata": {},
   "outputs": [
    {
     "name": "stdout",
     "output_type": "stream",
     "text": [
      "\n",
      "Q6: Strong rule interpretation:\n",
      "If a customer buys Donut, they are 67% likely to also buy Coffee.\n",
      "This suggests a strong association between these two items.\n"
     ]
    }
   ],
   "source": [
    "# Q6: Interpret one strong rule\n",
    "print(\"\\nQ6: Strong rule interpretation:\")\n",
    "\n",
    "if good_rules:\n",
    "    strong_rule = good_rules[0]\n",
    "    antecedent, consequent = strong_rule['rule'].split(' → ')\n",
    "    confidence_pct = strong_rule['confidence'] * 100\n",
    "    \n",
    "    print(f\"If a customer buys {antecedent}, they are {confidence_pct:.0f}% likely to also buy {consequent}.\")\n",
    "    print(\"This suggests a strong association between these two items.\")\n",
    "else:\n",
    "    print(\"No strong rules found meeting the criteria\")"
   ]
  },
  {
   "cell_type": "code",
   "execution_count": 11,
   "id": "28c7baca-2dc8-4c91-ac8a-e80f083f0da1",
   "metadata": {},
   "outputs": [
    {
     "name": "stdout",
     "output_type": "stream",
     "text": [
      "\n",
      "Q7: How changing parameters affects rule generation:\n",
      "Higher min_support = Fewer rules (only very common itemsets)\n",
      "Lower min_support = More rules (includes less common itemsets)\n",
      "Higher min_confidence = Fewer rules (only very strong associations)\n",
      "Lower min_confidence = More rules (includes weaker associations)\n",
      "Example: min_support=0.5 would give fewer rules than min_support=0.4\n"
     ]
    }
   ],
   "source": [
    "# Q7: Effect of changing parameters\n",
    "print(\"\\nQ7: How changing parameters affects rule generation:\")\n",
    "\n",
    "print(\"Higher min_support = Fewer rules (only very common itemsets)\")\n",
    "print(\"Lower min_support = More rules (includes less common itemsets)\")\n",
    "print(\"Higher min_confidence = Fewer rules (only very strong associations)\")\n",
    "print(\"Lower min_confidence = More rules (includes weaker associations)\")\n",
    "print(\"Example: min_support=0.5 would give fewer rules than min_support=0.4\")"
   ]
  },
  {
   "cell_type": "code",
   "execution_count": 12,
   "id": "d30045c5-fa3a-4745-a0f6-106e28ce3284",
   "metadata": {},
   "outputs": [
    {
     "name": "stdout",
     "output_type": "stream",
     "text": [
      "\n",
      "Q8: Why Lift > 1 indicates a good association rule:\n",
      "Lift > 1 means:\n",
      "- Items are positively correlated\n",
      "- The rule is better than random chance\n",
      "- Buying the antecedent increases the probability of buying the consequent\n",
      "- It's a meaningful association worth considering for business decisions\n",
      "Lift = 1: Items are independent (no association)\n",
      "Lift < 1: Items are negatively correlated (avoid each other)\n"
     ]
    }
   ],
   "source": [
    "# Q8: Why Lift > 1 indicates a good rule\n",
    "print(\"\\nQ8: Why Lift > 1 indicates a good association rule:\")\n",
    "\n",
    "print(\"Lift > 1 means:\")\n",
    "print(\"- Items are positively correlated\")\n",
    "print(\"- The rule is better than random chance\")\n",
    "print(\"- Buying the antecedent increases the probability of buying the consequent\")\n",
    "print(\"- It's a meaningful association worth considering for business decisions\")\n",
    "print(\"Lift = 1: Items are independent (no association)\")\n",
    "print(\"Lift < 1: Items are negatively correlated (avoid each other)\")"
   ]
  },
  {
   "cell_type": "code",
   "execution_count": null,
   "id": "fb7523c0-f110-4898-a305-4fffd6cf6d5d",
   "metadata": {},
   "outputs": [],
   "source": []
  }
 ],
 "metadata": {
  "kernelspec": {
   "display_name": "Python 3 (ipykernel)",
   "language": "python",
   "name": "python3"
  },
  "language_info": {
   "codemirror_mode": {
    "name": "ipython",
    "version": 3
   },
   "file_extension": ".py",
   "mimetype": "text/x-python",
   "name": "python",
   "nbconvert_exporter": "python",
   "pygments_lexer": "ipython3",
   "version": "3.13.5"
  }
 },
 "nbformat": 4,
 "nbformat_minor": 5
}
