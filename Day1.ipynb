{
 "cells": [
  {
   "cell_type": "code",
   "execution_count": 1,
   "id": "b7e786ce-470d-4528-9ddf-b619eb356016",
   "metadata": {},
   "outputs": [
    {
     "name": "stdin",
     "output_type": "stream",
     "text": [
      "Enter PIN:  2345\n"
     ]
    },
    {
     "name": "stdout",
     "output_type": "stream",
     "text": [
      "Wrong PIN\n"
     ]
    },
    {
     "name": "stdin",
     "output_type": "stream",
     "text": [
      "Enter PIN:  3232\n"
     ]
    },
    {
     "name": "stdout",
     "output_type": "stream",
     "text": [
      "Wrong PIN\n"
     ]
    },
    {
     "name": "stdin",
     "output_type": "stream",
     "text": [
      "Enter PIN:  4353\n"
     ]
    },
    {
     "name": "stdout",
     "output_type": "stream",
     "text": [
      "Wrong PIN\n",
      "Too many wrong attempts\n"
     ]
    }
   ],
   "source": [
    "#ATM Simulation\n",
    "pin = \"1234\"\n",
    "balance = 5000\n",
    "\n",
    "for i in range(3):\n",
    "    entered = input(\"Enter PIN: \")\n",
    "    if entered == pin:\n",
    "        print(\"\\n1. Check Balance\\n2. Deposit\\n3. Withdraw\")\n",
    "        choice = input(\"Choose (1/2/3): \")\n",
    "        \n",
    "        if choice == \"1\":\n",
    "            print(\"Balance:\", balance)\n",
    "        elif choice == \"2\":\n",
    "            amt = int(input(\"Deposit amount: \"))\n",
    "            balance += amt\n",
    "            print(\"New Balance:\", balance)\n",
    "        elif choice == \"3\":\n",
    "            amt = int(input(\"Withdraw amount: \"))\n",
    "            balance -= amt\n",
    "            print(\"New Balance:\", balance)\n",
    "            \n",
    "        else:\n",
    "            print(\"Invalid choice\")\n",
    "        break\n",
    "    else:\n",
    "        print(\"Wrong PIN\")\n",
    "\n",
    "else:\n",
    "    print(\"Too many wrong attempts\")\n"
   ]
  },
  {
   "cell_type": "code",
   "execution_count": null,
   "id": "06e64c4f-4efd-47ab-8dc3-b54cf9b00db3",
   "metadata": {},
   "outputs": [],
   "source": []
  }
 ],
 "metadata": {
  "kernelspec": {
   "display_name": "Python 3 (ipykernel)",
   "language": "python",
   "name": "python3"
  },
  "language_info": {
   "codemirror_mode": {
    "name": "ipython",
    "version": 3
   },
   "file_extension": ".py",
   "mimetype": "text/x-python",
   "name": "python",
   "nbconvert_exporter": "python",
   "pygments_lexer": "ipython3",
   "version": "3.11.7"
  }
 },
 "nbformat": 4,
 "nbformat_minor": 5
}
