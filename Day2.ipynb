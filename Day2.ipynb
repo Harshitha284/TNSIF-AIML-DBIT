{
 "cells": [
  {
   "cell_type": "code",
   "execution_count": 39,
   "id": "ee70cb7f-ba3f-4086-b287-8d7ce85072b4",
   "metadata": {},
   "outputs": [
    {
     "name": "stdin",
     "output_type": "stream",
     "text": [
      "Enter a number:  78\n"
     ]
    },
    {
     "name": "stdout",
     "output_type": "stream",
     "text": [
      "Current sum:78\n"
     ]
    },
    {
     "name": "stdin",
     "output_type": "stream",
     "text": [
      "Enter a number:  1\n"
     ]
    },
    {
     "name": "stdout",
     "output_type": "stream",
     "text": [
      "Current sum:79\n"
     ]
    },
    {
     "name": "stdin",
     "output_type": "stream",
     "text": [
      "Enter a number:  80\n"
     ]
    },
    {
     "name": "stdout",
     "output_type": "stream",
     "text": [
      "Current sum:159\n"
     ]
    },
    {
     "name": "stdin",
     "output_type": "stream",
     "text": [
      "Enter a number:  90\n"
     ]
    },
    {
     "name": "stdout",
     "output_type": "stream",
     "text": [
      "Current sum:249\n"
     ]
    },
    {
     "name": "stdin",
     "output_type": "stream",
     "text": [
      "Enter a number:  90\n"
     ]
    },
    {
     "name": "stdout",
     "output_type": "stream",
     "text": [
      "Current sum:339\n",
      "Sum has exceeded 300\n"
     ]
    }
   ],
   "source": [
    "#accept number from user and print sum which doesnt exceed 300\n",
    "sum = 0\n",
    "while True:\n",
    "    num = int(input(\"Enter a number: \"))\n",
    "    sum += num \n",
    "    print(f\"Current sum:{sum}\")\n",
    "    if sum >= 300:\n",
    "        print(\"Sum has exceeded 300\")\n",
    "        break\n",
    "    "
   ]
  },
  {
   "cell_type": "code",
   "execution_count": 11,
   "id": "bbb317eb-d1da-4582-aede-e3ca0f59e80d",
   "metadata": {},
   "outputs": [
    {
     "name": "stdin",
     "output_type": "stream",
     "text": [
      "Enter the string bon\n",
      "Enter the string fgu\n",
      "Enter the string Bon\n"
     ]
    },
    {
     "name": "stdout",
     "output_type": "stream",
     "text": [
      "Voyage\n"
     ]
    }
   ],
   "source": [
    "#when user enters Bon,Voyage has to be printed\n",
    "while True:\n",
    "    s = input(\"Enter the string\")\n",
    "    if s == \"Bon\":\n",
    "        print(\"Voyage\")\n",
    "        break"
   ]
  },
  {
   "cell_type": "code",
   "execution_count": 43,
   "id": "5c30ce22-7623-462e-8f7b-9d3567de5c33",
   "metadata": {},
   "outputs": [
    {
     "name": "stdin",
     "output_type": "stream",
     "text": [
      "Enter your door number and street:  23fg\n"
     ]
    },
    {
     "name": "stdout",
     "output_type": "stream",
     "text": [
      "23"
     ]
    }
   ],
   "source": [
    "#when user enters number and name of street,number has to be printed\n",
    "adrs = input(\"Enter your door number and street: \")\n",
    "number = \"\"\n",
    "for ch in adrs:\n",
    "    if ch>='0' and ch<='9':\n",
    "        print(ch,end='')"
   ]
  },
  {
   "cell_type": "code",
   "execution_count": 40,
   "id": "93e05d69-0366-4920-9df5-711eedc3c51f",
   "metadata": {},
   "outputs": [
    {
     "name": "stdin",
     "output_type": "stream",
     "text": [
      "Enter your name:  ananya\n"
     ]
    },
    {
     "name": "stdout",
     "output_type": "stream",
     "text": [
      "n\n",
      "n\n",
      "y\n"
     ]
    }
   ],
   "source": [
    "#accept name from user and print consonents\n",
    "n = input(\"Enter your name: \")\n",
    "for i in n:\n",
    "    if i=='a' or i=='e' or i=='i' or i=='o' or i=='u':\n",
    "        continue\n",
    "    else:\n",
    "        print(i)\n",
    "        "
   ]
  },
  {
   "cell_type": "code",
   "execution_count": 37,
   "id": "7d9db3f1-a3b9-49ae-b29d-ba982fe39616",
   "metadata": {},
   "outputs": [
    {
     "name": "stdin",
     "output_type": "stream",
     "text": [
      "Enter item 1:  ertt\n",
      "Enter item 2:  hjj\n",
      "Enter item 3:  huui\n",
      "Enter item 4:  guyg\n",
      "Enter item 5:  gytg\n",
      "Enter your name:  ananya\n"
     ]
    },
    {
     "name": "stdout",
     "output_type": "stream",
     "text": [
      "Updated list: ['ertt', 'hjj', 'ananya', 'guyg', 'ananya']\n"
     ]
    }
   ],
   "source": [
    "#in the usser entered 5 lists,3rd and 5th elements have to be replaced by user entered name\n",
    "lst = []\n",
    "for i in range(5):\n",
    "    element = input(f\"Enter item {i+1}: \")\n",
    "    lst.append(element)\n",
    "name = input(\"Enter your name: \")\n",
    "lst[2] = name\n",
    "lst[4] = name\n",
    "print(\"Updated list:\", lst)"
   ]
  },
  {
   "cell_type": "code",
   "execution_count": 2,
   "id": "d3dd3ead-8642-49fe-bfce-9e3c88a24508",
   "metadata": {},
   "outputs": [
    {
     "data": {
      "text/plain": [
       "[20, 21, 22, 23, 24]"
      ]
     },
     "execution_count": 2,
     "metadata": {},
     "output_type": "execute_result"
    }
   ],
   "source": [
    "li=list(range(20,25))\n",
    "li"
   ]
  },
  {
   "cell_type": "code",
   "execution_count": 3,
   "id": "3911170f-e308-410c-859b-edda176c59e9",
   "metadata": {},
   "outputs": [
    {
     "data": {
      "text/plain": [
       "[20, 21, 22, 23, 24, 26]"
      ]
     },
     "execution_count": 3,
     "metadata": {},
     "output_type": "execute_result"
    }
   ],
   "source": [
    "li.append(26)\n",
    "li"
   ]
  },
  {
   "cell_type": "code",
   "execution_count": 4,
   "id": "efb763b2-9cc2-4d83-8017-2e33195d3b0b",
   "metadata": {},
   "outputs": [
    {
     "data": {
      "text/plain": [
       "[20, 21, 100, 23, 24, 26]"
      ]
     },
     "execution_count": 4,
     "metadata": {},
     "output_type": "execute_result"
    }
   ],
   "source": [
    "li[2]=100\n",
    "li"
   ]
  },
  {
   "cell_type": "code",
   "execution_count": 5,
   "id": "3b522449-0cfb-4c29-a398-58d68c13d3f0",
   "metadata": {},
   "outputs": [
    {
     "data": {
      "text/plain": [
       "23"
      ]
     },
     "execution_count": 5,
     "metadata": {},
     "output_type": "execute_result"
    }
   ],
   "source": [
    "li[3]"
   ]
  },
  {
   "cell_type": "code",
   "execution_count": 6,
   "id": "bfa007ec-c0ef-4ee6-b8ce-4af1d824447f",
   "metadata": {},
   "outputs": [
    {
     "data": {
      "text/plain": [
       "[20, 0, 21, 100, 23, 24, 26]"
      ]
     },
     "execution_count": 6,
     "metadata": {},
     "output_type": "execute_result"
    }
   ],
   "source": [
    "li.insert(1,0)\n",
    "li"
   ]
  },
  {
   "cell_type": "code",
   "execution_count": 8,
   "id": "3a816e25-70c2-4490-81c4-36d4ad54e900",
   "metadata": {},
   "outputs": [
    {
     "data": {
      "text/plain": [
       "[20, 21, 100, 23, 24, 26]"
      ]
     },
     "execution_count": 8,
     "metadata": {},
     "output_type": "execute_result"
    }
   ],
   "source": [
    "li\n",
    "del li[1]\n",
    "li"
   ]
  },
  {
   "cell_type": "code",
   "execution_count": 11,
   "id": "453d476e-bf6a-49d7-ae82-aaac8b6d2bfb",
   "metadata": {},
   "outputs": [
    {
     "data": {
      "text/plain": [
       "[20, 21, 23]"
      ]
     },
     "execution_count": 11,
     "metadata": {},
     "output_type": "execute_result"
    }
   ],
   "source": [
    "li.pop()\n",
    "li\n",
    "#integers can only be deleted..without entering anything in () LAST element is deleted"
   ]
  },
  {
   "cell_type": "code",
   "execution_count": 13,
   "id": "0838670d-981e-4d14-8144-b1bff97451a1",
   "metadata": {},
   "outputs": [
    {
     "data": {
      "text/plain": [
       "['red', 'blue']"
      ]
     },
     "execution_count": 13,
     "metadata": {},
     "output_type": "execute_result"
    }
   ],
   "source": [
    "li1=['red','blue']\n",
    "li1"
   ]
  },
  {
   "cell_type": "code",
   "execution_count": 15,
   "id": "8b96ff78-1345-4860-bcc6-db1e24178fce",
   "metadata": {},
   "outputs": [
    {
     "data": {
      "text/plain": [
       "['blue']"
      ]
     },
     "execution_count": 15,
     "metadata": {},
     "output_type": "execute_result"
    }
   ],
   "source": [
    "li1.remove('red')\n",
    "li1\n",
    "#remove string from list"
   ]
  }
 ],
 "metadata": {
  "kernelspec": {
   "display_name": "Python 3 (ipykernel)",
   "language": "python",
   "name": "python3"
  },
  "language_info": {
   "codemirror_mode": {
    "name": "ipython",
    "version": 3
   },
   "file_extension": ".py",
   "mimetype": "text/x-python",
   "name": "python",
   "nbconvert_exporter": "python",
   "pygments_lexer": "ipython3",
   "version": "3.11.7"
  }
 },
 "nbformat": 4,
 "nbformat_minor": 5
}
