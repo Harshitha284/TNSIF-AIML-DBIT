{
 "cells": [
  {
   "cell_type": "code",
   "execution_count": 1,
   "metadata": {},
   "outputs": [
    {
     "name": "stdout",
     "output_type": "stream",
     "text": [
      "[2, 4, 6, 8, 10]\n"
     ]
    }
   ],
   "source": [
    "# Sample list with 10 elements\n",
    "numbers = [1, 2, 3, 4, 5, 6, 7, 8, 9, 10]  # Example list\n",
    "\n",
    "# Remove the third element (index 2)\n",
    "if len(numbers) >= 3:\n",
    "    numbers.pop(2)\n",
    "\n",
    "# Remove all odd elements\n",
    "numbers = [x for x in numbers if x % 2 == 0]\n",
    "\n",
    "print(numbers)"
   ]
  },
  {
   "cell_type": "code",
   "execution_count": 3,
   "metadata": {},
   "outputs": [
    {
     "name": "stdout",
     "output_type": "stream",
     "text": [
      "Minimum Salary: 22.0\n",
      "Maximum Salary: 90.0\n"
     ]
    }
   ],
   "source": [
    "def find_min_max_salaries():\n",
    "    # Get the number of employees\n",
    "    n = int(input(\"Enter the number of employees: \"))\n",
    "\n",
    "    # Initialize an empty list to store salaries\n",
    "    salaries = []\n",
    "\n",
    "    # Input salaries\n",
    "    for i in range(n):\n",
    "        salary = float(input(f\"Enter salary for employee {i+1}: \"))\n",
    "        salaries.append(salary)\n",
    "\n",
    "    # Find minimum and maximum salaries\n",
    "    min_salary = min(salaries)\n",
    "    max_salary = max(salaries)\n",
    "\n",
    "    # Print results\n",
    "    print(f\"Minimum Salary: {min_salary}\")\n",
    "    print(f\"Maximum Salary: {max_salary}\")\n",
    "\n",
    "# Run the program\n",
    "find_min_max_salaries()"
   ]
  },
  {
   "cell_type": "code",
   "execution_count": 4,
   "metadata": {},
   "outputs": [
    {
     "name": "stdout",
     "output_type": "stream",
     "text": [
      "\n",
      "Employee Dictionary:\n",
      "Name: sh, Number: 1\n",
      "Name: tt, Number: 2\n",
      "Name: hh, Number: 3\n",
      "Name: gg, Number: 4\n"
     ]
    }
   ],
   "source": [
    "n = int(input(\"Enter number of employees: \"))\n",
    "employees = {}\n",
    "for i in range(n):\n",
    "    employees[input(\"Enter employee name: \")] = input(\"Enter employee number: \")\n",
    "print(\"\\nEmployee Dictionary:\")\n",
    "for name, number in employees.items():\n",
    "    print(f\"Name: {name}, Number: {number}\")"
   ]
  }
 ],
 "metadata": {
  "kernelspec": {
   "display_name": "Python 3",
   "language": "python",
   "name": "python3"
  },
  "language_info": {
   "codemirror_mode": {
    "name": "ipython",
    "version": 3
   },
   "file_extension": ".py",
   "mimetype": "text/x-python",
   "name": "python",
   "nbconvert_exporter": "python",
   "pygments_lexer": "ipython3",
   "version": "3.13.0"
  }
 },
 "nbformat": 4,
 "nbformat_minor": 2
}
